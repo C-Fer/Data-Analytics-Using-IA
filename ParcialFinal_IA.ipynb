{
  "nbformat": 4,
  "nbformat_minor": 0,
  "metadata": {
    "colab": {
      "name": "ParcialFinal_IA.ipynb",
      "provenance": [],
      "toc_visible": true,
      "include_colab_link": true
    },
    "kernelspec": {
      "name": "python3",
      "display_name": "Python 3"
    },
    "language_info": {
      "name": "python"
    }
  },
  "cells": [
    {
      "cell_type": "markdown",
      "metadata": {
        "id": "view-in-github",
        "colab_type": "text"
      },
      "source": [
        "<a href=\"https://colab.research.google.com/github/C-Fer/Data-Analytics-Using-IA/blob/main/ParcialFinal_IA.ipynb\" target=\"_parent\"><img src=\"https://colab.research.google.com/assets/colab-badge.svg\" alt=\"Open In Colab\"/></a>"
      ]
    },
    {
      "cell_type": "markdown",
      "metadata": {
        "id": "RrOiDGwCz1al"
      },
      "source": [
        "# **PARCIAL FINAL** \n",
        "# Inteligencia Artificial\n",
        "## Universidad Tecnológica de Bolívar\n",
        "## Facultad de Ingeniería\n",
        "## Grupo G - NRC 1084\n",
        "\n",
        "\n",
        "### **Integrantes:**\n",
        "\n",
        "    Camilo Andrés Fernández Echavez    T00054759\n",
        "    Edgar David Hernández Medina       T00054326\n",
        "    René Arturo De Oro Larios          T00054355\n",
        "  "
      ]
    },
    {
      "cell_type": "markdown",
      "metadata": {
        "id": "mVzskCzy13tV"
      },
      "source": [
        "## Importación de librerias necesarias"
      ]
    },
    {
      "cell_type": "code",
      "metadata": {
        "id": "vhd_lMCQz4dw"
      },
      "source": [
        "#Gestión de datos\n",
        "import os\n",
        "import pandas as pd\n",
        "import numpy as np\n",
        "%matplotlib inline\n",
        "import datetime\n",
        "\n",
        "#Gráficas\n",
        "import matplotlib.pyplot as plt\n",
        "import matplotlib.dates as mdates\n",
        "from IPython.display import Image\n",
        "import missingno as msno\n",
        "import seaborn as sns\n",
        "\n",
        "#Librerias para la creación de la red neuronal\n",
        "import tensorflow as tf\n",
        "from sklearn import preprocessing\n",
        "from sklearn.preprocessing import OneHotEncoder\n",
        "from sklearn.preprocessing import LabelEncoder\n",
        "from imblearn.over_sampling import SMOTE\n",
        "from collections import Counter\n",
        "from keras.models import Sequential\n",
        "from keras.layers import Dense, Dropout\n",
        "from keras.wrappers.scikit_learn import KerasClassifier\n",
        "from keras.utils import np_utils\n",
        "from sklearn.model_selection import train_test_split\n",
        "from sklearn.preprocessing import LabelEncoder\n",
        "from numpy import  argmax\n"
      ],
      "execution_count": null,
      "outputs": []
    },
    {
      "cell_type": "markdown",
      "metadata": {
        "id": "TD7igR-I17lg"
      },
      "source": [
        "## Lectura de datos"
      ]
    },
    {
      "cell_type": "code",
      "metadata": {
        "colab": {
          "base_uri": "https://localhost:8080/",
          "height": 326
        },
        "id": "ef0AoXp32JpM",
        "outputId": "c267da89-406f-4c3c-9e22-e3785412d31b"
      },
      "source": [
        "# Lectura del archivo CSV filtrado\n",
        "DataFrame = pd.read_csv(\"clean_data.csv\")\n",
        "DataFrame.head()"
      ],
      "execution_count": null,
      "outputs": [
        {
          "output_type": "execute_result",
          "data": {
            "text/html": [
              "<div>\n",
              "<style scoped>\n",
              "    .dataframe tbody tr th:only-of-type {\n",
              "        vertical-align: middle;\n",
              "    }\n",
              "\n",
              "    .dataframe tbody tr th {\n",
              "        vertical-align: top;\n",
              "    }\n",
              "\n",
              "    .dataframe thead th {\n",
              "        text-align: right;\n",
              "    }\n",
              "</style>\n",
              "<table border=\"1\" class=\"dataframe\">\n",
              "  <thead>\n",
              "    <tr style=\"text-align: right;\">\n",
              "      <th></th>\n",
              "      <th>Unnamed: 0</th>\n",
              "      <th>Edad</th>\n",
              "      <th>RSSS</th>\n",
              "      <th>Cefalea</th>\n",
              "      <th>Edemas</th>\n",
              "      <th>ECVICT</th>\n",
              "      <th>DM1DM2</th>\n",
              "      <th>ICC</th>\n",
              "      <th>Licorc8-15Dias</th>\n",
              "      <th>Quirurgicos</th>\n",
              "      <th>Peso</th>\n",
              "      <th>Talla</th>\n",
              "      <th>IMC</th>\n",
              "      <th>SMC</th>\n",
              "      <th>SignosVitales</th>\n",
              "      <th>FC</th>\n",
              "      <th>FR</th>\n",
              "      <th>Pulso</th>\n",
              "      <th>Tension_arterial</th>\n",
              "      <th>PMI</th>\n",
              "      <th>RsCsRs</th>\n",
              "      <th>DietaBajaSal</th>\n",
              "      <th>Prevención_cancer_prostata</th>\n",
              "      <th>Abuso sexual</th>\n",
              "      <th>Violencia intrafamiliar</th>\n",
              "      <th>Autoestima, autocuidado</th>\n",
              "      <th>3_intervenciones_sobre_factore_riesgo_específico</th>\n",
              "      <th>Riesgo_edad</th>\n",
              "      <th>Antecedentes_familiares</th>\n",
              "      <th>Perimetro_abdominal</th>\n",
              "      <th>Riesgo_perimetro</th>\n",
              "      <th>Tabaquismo</th>\n",
              "      <th>Total_Riegos(F_de_R)</th>\n",
              "      <th>Nefropatia_diabetica</th>\n",
              "      <th>LOB</th>\n",
              "      <th>EKG</th>\n",
              "      <th>Ecocardiografia</th>\n",
              "      <th>Ateroesclerosis</th>\n",
              "      <th>Ecografia_carotida</th>\n",
              "      <th>Disfuncion_renal</th>\n",
              "      <th>Condiciones_clinicas_asociadas</th>\n",
              "      <th>Diabetes_mellitus_diagnosticada</th>\n",
              "      <th>Glicemia_ayunas</th>\n",
              "      <th>Diabetes_mellitus_(DM2)</th>\n",
              "      <th>ClasificacionFinalRiesgoCardiovascular</th>\n",
              "      <th>CausaExterna</th>\n",
              "      <th>TipoDiagnostico</th>\n",
              "      <th>DiagnosticoPrincipal</th>\n",
              "      <th>Resultado</th>\n",
              "      <th>CodigoDiagnosticoPrincipal</th>\n",
              "    </tr>\n",
              "  </thead>\n",
              "  <tbody>\n",
              "    <tr>\n",
              "      <th>0</th>\n",
              "      <td>1</td>\n",
              "      <td>46</td>\n",
              "      <td>Subsidiado</td>\n",
              "      <td>1</td>\n",
              "      <td>0</td>\n",
              "      <td>0</td>\n",
              "      <td>0</td>\n",
              "      <td>0</td>\n",
              "      <td>0</td>\n",
              "      <td>1</td>\n",
              "      <td>90.0</td>\n",
              "      <td>1.65</td>\n",
              "      <td>33.06</td>\n",
              "      <td>1.97</td>\n",
              "      <td>1.97</td>\n",
              "      <td>80.0</td>\n",
              "      <td>20.0</td>\n",
              "      <td>80.0</td>\n",
              "      <td>11080</td>\n",
              "      <td>0</td>\n",
              "      <td>1</td>\n",
              "      <td>1</td>\n",
              "      <td>True</td>\n",
              "      <td>True</td>\n",
              "      <td>True</td>\n",
              "      <td>True</td>\n",
              "      <td>True</td>\n",
              "      <td>False</td>\n",
              "      <td>False</td>\n",
              "      <td>95.0</td>\n",
              "      <td>True</td>\n",
              "      <td>False</td>\n",
              "      <td>2.0</td>\n",
              "      <td>0</td>\n",
              "      <td>0</td>\n",
              "      <td>False</td>\n",
              "      <td>False</td>\n",
              "      <td>False</td>\n",
              "      <td>False</td>\n",
              "      <td>False</td>\n",
              "      <td>0</td>\n",
              "      <td>False</td>\n",
              "      <td>False</td>\n",
              "      <td>0</td>\n",
              "      <td>3.0</td>\n",
              "      <td>15</td>\n",
              "      <td>2</td>\n",
              "      <td>HIPERTENSION ESENCIAL (PRIMARIA)</td>\n",
              "      <td>True</td>\n",
              "      <td>I10X</td>\n",
              "    </tr>\n",
              "    <tr>\n",
              "      <th>1</th>\n",
              "      <td>2</td>\n",
              "      <td>68</td>\n",
              "      <td>Subsidiado</td>\n",
              "      <td>1</td>\n",
              "      <td>0</td>\n",
              "      <td>0</td>\n",
              "      <td>1</td>\n",
              "      <td>0</td>\n",
              "      <td>0</td>\n",
              "      <td>0</td>\n",
              "      <td>90.0</td>\n",
              "      <td>1.70</td>\n",
              "      <td>31.14</td>\n",
              "      <td>2.01</td>\n",
              "      <td>2.01</td>\n",
              "      <td>88.0</td>\n",
              "      <td>22.0</td>\n",
              "      <td>88.0</td>\n",
              "      <td>13080</td>\n",
              "      <td>0</td>\n",
              "      <td>1</td>\n",
              "      <td>1</td>\n",
              "      <td>True</td>\n",
              "      <td>True</td>\n",
              "      <td>True</td>\n",
              "      <td>True</td>\n",
              "      <td>True</td>\n",
              "      <td>True</td>\n",
              "      <td>False</td>\n",
              "      <td>112.0</td>\n",
              "      <td>True</td>\n",
              "      <td>False</td>\n",
              "      <td>4.0</td>\n",
              "      <td>0</td>\n",
              "      <td>0</td>\n",
              "      <td>False</td>\n",
              "      <td>False</td>\n",
              "      <td>False</td>\n",
              "      <td>False</td>\n",
              "      <td>False</td>\n",
              "      <td>0</td>\n",
              "      <td>True</td>\n",
              "      <td>False</td>\n",
              "      <td>1</td>\n",
              "      <td>3.0</td>\n",
              "      <td>15</td>\n",
              "      <td>2</td>\n",
              "      <td>HIPERTENSION ESENCIAL (PRIMARIA)</td>\n",
              "      <td>True</td>\n",
              "      <td>I10X</td>\n",
              "    </tr>\n",
              "    <tr>\n",
              "      <th>2</th>\n",
              "      <td>3</td>\n",
              "      <td>53</td>\n",
              "      <td>No afiliado</td>\n",
              "      <td>1</td>\n",
              "      <td>0</td>\n",
              "      <td>0</td>\n",
              "      <td>0</td>\n",
              "      <td>0</td>\n",
              "      <td>0</td>\n",
              "      <td>1</td>\n",
              "      <td>65.0</td>\n",
              "      <td>1.55</td>\n",
              "      <td>27.06</td>\n",
              "      <td>1.64</td>\n",
              "      <td>1.64</td>\n",
              "      <td>88.0</td>\n",
              "      <td>22.0</td>\n",
              "      <td>88.0</td>\n",
              "      <td>12080</td>\n",
              "      <td>0</td>\n",
              "      <td>1</td>\n",
              "      <td>1</td>\n",
              "      <td>False</td>\n",
              "      <td>True</td>\n",
              "      <td>True</td>\n",
              "      <td>True</td>\n",
              "      <td>True</td>\n",
              "      <td>False</td>\n",
              "      <td>False</td>\n",
              "      <td>88.0</td>\n",
              "      <td>True</td>\n",
              "      <td>False</td>\n",
              "      <td>2.0</td>\n",
              "      <td>0</td>\n",
              "      <td>0</td>\n",
              "      <td>False</td>\n",
              "      <td>False</td>\n",
              "      <td>False</td>\n",
              "      <td>False</td>\n",
              "      <td>False</td>\n",
              "      <td>0</td>\n",
              "      <td>False</td>\n",
              "      <td>False</td>\n",
              "      <td>0</td>\n",
              "      <td>3.0</td>\n",
              "      <td>15</td>\n",
              "      <td>2</td>\n",
              "      <td>HIPERTENSION ESENCIAL (PRIMARIA)</td>\n",
              "      <td>True</td>\n",
              "      <td>I10X</td>\n",
              "    </tr>\n",
              "    <tr>\n",
              "      <th>3</th>\n",
              "      <td>4</td>\n",
              "      <td>88</td>\n",
              "      <td>Subsidiado</td>\n",
              "      <td>1</td>\n",
              "      <td>1</td>\n",
              "      <td>0</td>\n",
              "      <td>0</td>\n",
              "      <td>0</td>\n",
              "      <td>0</td>\n",
              "      <td>1</td>\n",
              "      <td>52.0</td>\n",
              "      <td>1.52</td>\n",
              "      <td>22.51</td>\n",
              "      <td>1.47</td>\n",
              "      <td>1.47</td>\n",
              "      <td>84.0</td>\n",
              "      <td>22.0</td>\n",
              "      <td>84.0</td>\n",
              "      <td>11080</td>\n",
              "      <td>0</td>\n",
              "      <td>1</td>\n",
              "      <td>1</td>\n",
              "      <td>True</td>\n",
              "      <td>True</td>\n",
              "      <td>True</td>\n",
              "      <td>True</td>\n",
              "      <td>True</td>\n",
              "      <td>True</td>\n",
              "      <td>False</td>\n",
              "      <td>88.0</td>\n",
              "      <td>False</td>\n",
              "      <td>False</td>\n",
              "      <td>2.0</td>\n",
              "      <td>0</td>\n",
              "      <td>0</td>\n",
              "      <td>False</td>\n",
              "      <td>False</td>\n",
              "      <td>False</td>\n",
              "      <td>False</td>\n",
              "      <td>False</td>\n",
              "      <td>0</td>\n",
              "      <td>False</td>\n",
              "      <td>False</td>\n",
              "      <td>0</td>\n",
              "      <td>3.0</td>\n",
              "      <td>15</td>\n",
              "      <td>2</td>\n",
              "      <td>HIPERTENSION ESENCIAL (PRIMARIA)</td>\n",
              "      <td>True</td>\n",
              "      <td>I10X</td>\n",
              "    </tr>\n",
              "    <tr>\n",
              "      <th>4</th>\n",
              "      <td>5</td>\n",
              "      <td>63</td>\n",
              "      <td>Subsidiado</td>\n",
              "      <td>1</td>\n",
              "      <td>0</td>\n",
              "      <td>0</td>\n",
              "      <td>0</td>\n",
              "      <td>0</td>\n",
              "      <td>0</td>\n",
              "      <td>1</td>\n",
              "      <td>70.0</td>\n",
              "      <td>1.61</td>\n",
              "      <td>27.01</td>\n",
              "      <td>1.74</td>\n",
              "      <td>1.74</td>\n",
              "      <td>84.0</td>\n",
              "      <td>22.0</td>\n",
              "      <td>84.0</td>\n",
              "      <td>13080</td>\n",
              "      <td>0</td>\n",
              "      <td>1</td>\n",
              "      <td>1</td>\n",
              "      <td>True</td>\n",
              "      <td>True</td>\n",
              "      <td>True</td>\n",
              "      <td>True</td>\n",
              "      <td>True</td>\n",
              "      <td>True</td>\n",
              "      <td>True</td>\n",
              "      <td>97.0</td>\n",
              "      <td>False</td>\n",
              "      <td>True</td>\n",
              "      <td>4.0</td>\n",
              "      <td>0</td>\n",
              "      <td>0</td>\n",
              "      <td>False</td>\n",
              "      <td>False</td>\n",
              "      <td>False</td>\n",
              "      <td>False</td>\n",
              "      <td>False</td>\n",
              "      <td>0</td>\n",
              "      <td>False</td>\n",
              "      <td>False</td>\n",
              "      <td>0</td>\n",
              "      <td>3.0</td>\n",
              "      <td>15</td>\n",
              "      <td>2</td>\n",
              "      <td>HIPERTENSION ESENCIAL (PRIMARIA)</td>\n",
              "      <td>True</td>\n",
              "      <td>I10X</td>\n",
              "    </tr>\n",
              "  </tbody>\n",
              "</table>\n",
              "</div>"
            ],
            "text/plain": [
              "   Unnamed: 0  Edad  ... Resultado  CodigoDiagnosticoPrincipal\n",
              "0           1    46  ...      True                        I10X\n",
              "1           2    68  ...      True                        I10X\n",
              "2           3    53  ...      True                        I10X\n",
              "3           4    88  ...      True                        I10X\n",
              "4           5    63  ...      True                        I10X\n",
              "\n",
              "[5 rows x 50 columns]"
            ]
          },
          "metadata": {
            "tags": []
          },
          "execution_count": 38
        }
      ]
    },
    {
      "cell_type": "code",
      "metadata": {
        "colab": {
          "base_uri": "https://localhost:8080/"
        },
        "id": "WQ1unqQjFnsG",
        "outputId": "86b131ca-6d37-4437-bd44-230c9c51a2ef"
      },
      "source": [
        "DataFrame.shape"
      ],
      "execution_count": null,
      "outputs": [
        {
          "output_type": "execute_result",
          "data": {
            "text/plain": [
              "(7453, 50)"
            ]
          },
          "metadata": {
            "tags": []
          },
          "execution_count": 39
        }
      ]
    },
    {
      "cell_type": "markdown",
      "metadata": {
        "id": "kUgGIitD5f9s"
      },
      "source": [
        "# **1. Verificamos que no hallan datos faltantes**"
      ]
    },
    {
      "cell_type": "markdown",
      "metadata": {
        "id": "oYdJReh37XA_"
      },
      "source": [
        "## Número de datos faltantes"
      ]
    },
    {
      "cell_type": "code",
      "metadata": {
        "colab": {
          "base_uri": "https://localhost:8080/"
        },
        "id": "v3wceR_-7WkW",
        "outputId": "4e73ee5a-eb78-48c9-9fcd-dee246ddef2e"
      },
      "source": [
        "for col in DataFrame.columns:\n",
        "    missing_data = DataFrame[col].isnull().sum()\n",
        "    print('{}: {}'.format(col, missing_data))"
      ],
      "execution_count": null,
      "outputs": [
        {
          "output_type": "stream",
          "text": [
            "Unnamed: 0: 0\n",
            "Edad: 0\n",
            "RSSS: 0\n",
            "Cefalea: 0\n",
            "Edemas: 0\n",
            "ECVICT: 0\n",
            "DM1DM2: 0\n",
            "ICC: 0\n",
            "Licorc8-15Dias: 0\n",
            "Quirurgicos: 0\n",
            "Peso: 0\n",
            "Talla: 0\n",
            "IMC: 0\n",
            "SMC: 0\n",
            "SignosVitales: 0\n",
            "FC: 0\n",
            "FR: 0\n",
            "Pulso: 0\n",
            "Tension_arterial: 0\n",
            "PMI: 0\n",
            "RsCsRs: 0\n",
            "DietaBajaSal: 0\n",
            "Prevención_cancer_prostata: 0\n",
            "Abuso sexual: 0\n",
            "Violencia intrafamiliar: 0\n",
            "Autoestima, autocuidado: 0\n",
            "3_intervenciones_sobre_factore_riesgo_específico: 0\n",
            "Riesgo_edad: 0\n",
            "Antecedentes_familiares: 0\n",
            "Perimetro_abdominal: 0\n",
            "Riesgo_perimetro: 0\n",
            "Tabaquismo: 0\n",
            "Total_Riegos(F_de_R): 0\n",
            "Nefropatia_diabetica: 0\n",
            "LOB: 0\n",
            "EKG: 0\n",
            "Ecocardiografia: 0\n",
            "Ateroesclerosis: 0\n",
            "Ecografia_carotida: 0\n",
            "Disfuncion_renal: 0\n",
            "Condiciones_clinicas_asociadas: 0\n",
            "Diabetes_mellitus_diagnosticada: 0\n",
            "Glicemia_ayunas: 0\n",
            "Diabetes_mellitus_(DM2): 0\n",
            "ClasificacionFinalRiesgoCardiovascular: 0\n",
            "CausaExterna: 0\n",
            "TipoDiagnostico: 0\n",
            "DiagnosticoPrincipal: 0\n",
            "Resultado: 0\n",
            "CodigoDiagnosticoPrincipal: 0\n"
          ],
          "name": "stdout"
        }
      ]
    },
    {
      "cell_type": "markdown",
      "metadata": {
        "id": "STBY8Zem7SsZ"
      },
      "source": [
        "## Mapa de calor de datos faltantes"
      ]
    },
    {
      "cell_type": "code",
      "metadata": {
        "colab": {
          "base_uri": "https://localhost:8080/",
          "height": 1000
        },
        "id": "_DzeW3H35Ntz",
        "outputId": "a8f58393-bfec-4437-cff1-07568d7e8df9"
      },
      "source": [
        "plt.figure(figsize=(15,15)) \n",
        "sns.heatmap(DataFrame.isnull(),cbar=False) # Mapa de calor de seaborn"
      ],
      "execution_count": null,
      "outputs": [
        {
          "output_type": "execute_result",
          "data": {
            "text/plain": [
              "<matplotlib.axes._subplots.AxesSubplot at 0x7fae60542110>"
            ]
          },
          "metadata": {
            "tags": []
          },
          "execution_count": 41
        },
        {
          "output_type": "display_data",
          "data": {
            "image/png": "[encoded data removed]",
            "text/plain": [
              "<Figure size 1080x1080 with 1 Axes>"
            ]
          },
          "metadata": {
            "tags": [],
            "needs_background": "light"
          }
        }
      ]
    },
    {
      "cell_type": "markdown",
      "metadata": {
        "id": "UP3bckb-67LZ"
      },
      "source": [
        "# **2. Balanceo de los datos** "
      ]
    },
    {
      "cell_type": "markdown",
      "metadata": {
        "id": "tnVzzJBgTh6R"
      },
      "source": [
        "## Primero vemos la distribución de datos de la variable objetivo"
      ]
    },
    {
      "cell_type": "code",
      "metadata": {
        "id": "stQf_XJ67uZl",
        "colab": {
          "base_uri": "https://localhost:8080/"
        },
        "outputId": "91603be3-12ab-4496-94a8-20de5f5aaed2"
      },
      "source": [
        "DataFrame['CodigoDiagnosticoPrincipal'].value_counts()/DataFrame.shape[0]*100"
      ],
      "execution_count": null,
      "outputs": [
        {
          "output_type": "execute_result",
          "data": {
            "text/plain": [
              "I10X    89.749094\n",
              "E119     4.145981\n",
              "E109     3.166510\n",
              "E149     1.583255\n",
              "E785     0.254931\n",
              "Z000     0.201261\n",
              "I10I     0.161009\n",
              "I119     0.147592\n",
              "E148     0.093922\n",
              "E108     0.080504\n",
              "A061     0.053670\n",
              "I498     0.053670\n",
              "E121     0.053670\n",
              "E106     0.040252\n",
              "A219     0.040252\n",
              "I059     0.040252\n",
              "I158     0.026835\n",
              "G409     0.026835\n",
              "L681     0.013417\n",
              "A030     0.013417\n",
              "I120     0.013417\n",
              "A078     0.013417\n",
              "E118     0.013417\n",
              "E871     0.013417\n",
              "Name: CodigoDiagnosticoPrincipal, dtype: float64"
            ]
          },
          "metadata": {
            "tags": []
          },
          "execution_count": 42
        }
      ]
    },
    {
      "cell_type": "markdown",
      "metadata": {
        "id": "nzD9edb3UHap"
      },
      "source": [
        "## Ahora separamos la variable objetivo"
      ]
    },
    {
      "cell_type": "code",
      "metadata": {
        "id": "5qWsY4XnUOh1"
      },
      "source": [
        "Y = DataFrame[['CodigoDiagnosticoPrincipal']]"
      ],
      "execution_count": null,
      "outputs": []
    },
    {
      "cell_type": "markdown",
      "metadata": {
        "id": "ES8wIs0pUh81"
      },
      "source": [
        "## OneHotEncoder"
      ]
    },
    {
      "cell_type": "code",
      "metadata": {
        "id": "uHW1en-cUgm2"
      },
      "source": [
        "encoder = OneHotEncoder(sparse=False)\n",
        "Y = encoder.fit_transform(Y)"
      ],
      "execution_count": null,
      "outputs": []
    },
    {
      "cell_type": "markdown",
      "metadata": {
        "id": "Lkq4JQzIXeWB"
      },
      "source": [
        "## Seleccionamos las tres clases con más cantidad de datos"
      ]
    },
    {
      "cell_type": "code",
      "metadata": {
        "id": "ZN7ZZw9FXd_M"
      },
      "source": [
        "clases = DataFrame.loc[(DataFrame['CodigoDiagnosticoPrincipal']=='I10X') | (DataFrame['CodigoDiagnosticoPrincipal']=='E119') | (DataFrame['CodigoDiagnosticoPrincipal']=='E109')]"
      ],
      "execution_count": null,
      "outputs": []
    },
    {
      "cell_type": "markdown",
      "metadata": {
        "id": "l-vIqsO0X53j"
      },
      "source": [
        "## Contamos las muestras por clases"
      ]
    },
    {
      "cell_type": "code",
      "metadata": {
        "colab": {
          "base_uri": "https://localhost:8080/"
        },
        "id": "eBHvNy6BX9QV",
        "outputId": "917539a4-3f20-4403-ddde-9c924fa7da6c"
      },
      "source": [
        "clases['CodigoDiagnosticoPrincipal'].value_counts()"
      ],
      "execution_count": null,
      "outputs": [
        {
          "output_type": "execute_result",
          "data": {
            "text/plain": [
              "I10X    6689\n",
              "E119     309\n",
              "E109     236\n",
              "Name: CodigoDiagnosticoPrincipal, dtype: int64"
            ]
          },
          "metadata": {
            "tags": []
          },
          "execution_count": 46
        }
      ]
    },
    {
      "cell_type": "markdown",
      "metadata": {
        "id": "Y_uhUJcxYQAw"
      },
      "source": [
        "## LabelEncoder"
      ]
    },
    {
      "cell_type": "code",
      "metadata": {
        "id": "l5F1brKkYfpE",
        "colab": {
          "base_uri": "https://localhost:8080/"
        },
        "outputId": "2fa22979-8516-40a9-a22d-38e1f48f1867"
      },
      "source": [
        "labelencoder = LabelEncoder()\n",
        "clases['CodigoDiagnosticoPrincipal']=labelencoder.fit_transform(clases['CodigoDiagnosticoPrincipal'])\n",
        "clases['DiagnosticoPrincipal']=labelencoder.fit_transform(clases['DiagnosticoPrincipal'])\n",
        "clases['RSSS']=labelencoder.fit_transform(clases['RSSS'])\n",
        "clases = clases.replace({True: 1,False:0})"
      ],
      "execution_count": null,
      "outputs": [
        {
          "output_type": "stream",
          "text": [
            "/usr/local/lib/python3.7/dist-packages/ipykernel_launcher.py:2: SettingWithCopyWarning: \n",
            "A value is trying to be set on a copy of a slice from a DataFrame.\n",
            "Try using .loc[row_indexer,col_indexer] = value instead\n",
            "\n",
            "See the caveats in the documentation: https://pandas.pydata.org/pandas-docs/stable/user_guide/indexing.html#returning-a-view-versus-a-copy\n",
            "  \n",
            "/usr/local/lib/python3.7/dist-packages/ipykernel_launcher.py:3: SettingWithCopyWarning: \n",
            "A value is trying to be set on a copy of a slice from a DataFrame.\n",
            "Try using .loc[row_indexer,col_indexer] = value instead\n",
            "\n",
            "See the caveats in the documentation: https://pandas.pydata.org/pandas-docs/stable/user_guide/indexing.html#returning-a-view-versus-a-copy\n",
            "  This is separate from the ipykernel package so we can avoid doing imports until\n",
            "/usr/local/lib/python3.7/dist-packages/ipykernel_launcher.py:4: SettingWithCopyWarning: \n",
            "A value is trying to be set on a copy of a slice from a DataFrame.\n",
            "Try using .loc[row_indexer,col_indexer] = value instead\n",
            "\n",
            "See the caveats in the documentation: https://pandas.pydata.org/pandas-docs/stable/user_guide/indexing.html#returning-a-view-versus-a-copy\n",
            "  after removing the cwd from sys.path.\n"
          ],
          "name": "stderr"
        }
      ]
    },
    {
      "cell_type": "code",
      "metadata": {
        "colab": {
          "base_uri": "https://localhost:8080/"
        },
        "id": "-bcPPFXbeDhg",
        "outputId": "8b539be3-e244-41f7-d999-b39eaf6ef445"
      },
      "source": [
        "clases['CodigoDiagnosticoPrincipal'].value_counts()"
      ],
      "execution_count": null,
      "outputs": [
        {
          "output_type": "execute_result",
          "data": {
            "text/plain": [
              "2    6689\n",
              "1     309\n",
              "0     236\n",
              "Name: CodigoDiagnosticoPrincipal, dtype: int64"
            ]
          },
          "metadata": {
            "tags": []
          },
          "execution_count": 48
        }
      ]
    },
    {
      "cell_type": "markdown",
      "metadata": {
        "id": "oDKu8WBOAPwd"
      },
      "source": [
        "## Definimos las variables de caracteristicas y la variable objetivo"
      ]
    },
    {
      "cell_type": "code",
      "metadata": {
        "id": "Qv6VUlU7AGgX"
      },
      "source": [
        "Y = clases[['CodigoDiagnosticoPrincipal']]\n",
        "X = clases[[x for x in clases if x not in Y]]"
      ],
      "execution_count": null,
      "outputs": []
    },
    {
      "cell_type": "markdown",
      "metadata": {
        "id": "Q-9h4tFCZmir"
      },
      "source": [
        "## Se normalizan los datos"
      ]
    },
    {
      "cell_type": "code",
      "metadata": {
        "id": "UPz-vVUYdCJZ"
      },
      "source": [
        "X=preprocessing.Normalizer().fit(X).transform(X)"
      ],
      "execution_count": null,
      "outputs": []
    },
    {
      "cell_type": "markdown",
      "metadata": {
        "id": "9b4U4Cj5Ao1_"
      },
      "source": [
        "## Dividiendo datos Conjunto de entrenamiento / Conjunto de Pruebas"
      ]
    },
    {
      "cell_type": "code",
      "metadata": {
        "id": "OB6iBu5wAmyo",
        "colab": {
          "base_uri": "https://localhost:8080/"
        },
        "outputId": "27db5090-07f1-47db-82de-44ad73f3758c"
      },
      "source": [
        "x_train, x_test, y_train, y_test= train_test_split(X,Y, test_size=0.2)\n",
        "print('Conjunto de entrenamiento: ', x_train.shape, y_train.shape)\n",
        "print('Conjunto de prueba: ', x_test.shape, y_test.shape)"
      ],
      "execution_count": null,
      "outputs": [
        {
          "output_type": "stream",
          "text": [
            "Conjunto de entrenamiento:  (5787, 49) (5787, 1)\n",
            "Conjunto de prueba:  (1447, 49) (1447, 1)\n"
          ],
          "name": "stdout"
        }
      ]
    },
    {
      "cell_type": "markdown",
      "metadata": {
        "id": "Hl-6nHKEdVkx"
      },
      "source": [
        "## Dispersión de las clases"
      ]
    },
    {
      "cell_type": "code",
      "metadata": {
        "colab": {
          "base_uri": "https://localhost:8080/",
          "height": 265
        },
        "id": "4XutRfPTdYcu",
        "outputId": "e538dec6-55d6-49e3-cde9-9230cd816f42"
      },
      "source": [
        "counter = Counter(y_train.squeeze())\n",
        "for label, _ in counter.items():\n",
        "  row_ix = np.where(y_train.squeeze() == label)[0]\n",
        "  plt.scatter(x_train[row_ix, 0], x_train[row_ix, 1], label=str(label))\n",
        "plt.legend()\n",
        "plt.show()"
      ],
      "execution_count": null,
      "outputs": [
        {
          "output_type": "display_data",
          "data": {
            "image/png": "[encoded data removed]",
            "text/plain": [
              "<Figure size 432x288 with 1 Axes>"
            ]
          },
          "metadata": {
            "tags": [],
            "needs_background": "light"
          }
        }
      ]
    },
    {
      "cell_type": "markdown",
      "metadata": {
        "id": "0vnbeQOJeQhm"
      },
      "source": [
        "## Balanceo de clases: Oversampling con SMOTE"
      ]
    },
    {
      "cell_type": "markdown",
      "metadata": {
        "id": "Gff7bADkezgS"
      },
      "source": [
        "### Aplicación de la técnica para entrenamiento"
      ]
    },
    {
      "cell_type": "code",
      "metadata": {
        "colab": {
          "base_uri": "https://localhost:8080/"
        },
        "id": "YQoXFpOXejpN",
        "outputId": "5da3ced5-373a-4543-b88a-9f82f3757b7f"
      },
      "source": [
        "smt = SMOTE()\n",
        "x_train, y_train = smt.fit_sample (x_train, y_train)\n",
        "np.bincount(y_train)"
      ],
      "execution_count": null,
      "outputs": [
        {
          "output_type": "stream",
          "text": [
            "/usr/local/lib/python3.7/dist-packages/sklearn/utils/validation.py:760: DataConversionWarning: A column-vector y was passed when a 1d array was expected. Please change the shape of y to (n_samples, ), for example using ravel().\n",
            "  y = column_or_1d(y, warn=True)\n",
            "/usr/local/lib/python3.7/dist-packages/sklearn/utils/deprecation.py:87: FutureWarning: Function safe_indexing is deprecated; safe_indexing is deprecated in version 0.22 and will be removed in version 0.24.\n",
            "  warnings.warn(msg, category=FutureWarning)\n",
            "/usr/local/lib/python3.7/dist-packages/sklearn/utils/deprecation.py:87: FutureWarning: Function safe_indexing is deprecated; safe_indexing is deprecated in version 0.22 and will be removed in version 0.24.\n",
            "  warnings.warn(msg, category=FutureWarning)\n"
          ],
          "name": "stderr"
        },
        {
          "output_type": "execute_result",
          "data": {
            "text/plain": [
              "array([5350, 5350, 5350])"
            ]
          },
          "metadata": {
            "tags": []
          },
          "execution_count": 53
        }
      ]
    },
    {
      "cell_type": "markdown",
      "metadata": {
        "id": "ksC_5mmXe4Wp"
      },
      "source": [
        "### Aplicación de la técnica para prueba"
      ]
    },
    {
      "cell_type": "code",
      "metadata": {
        "colab": {
          "base_uri": "https://localhost:8080/"
        },
        "id": "WoY3pJf8e3q8",
        "outputId": "1d78b490-f5bb-4408-d51d-3c849d11890f"
      },
      "source": [
        "x_test, y_test = smt.fit_sample (x_test, y_test)\n",
        "np.bincount(y_test)"
      ],
      "execution_count": null,
      "outputs": [
        {
          "output_type": "stream",
          "text": [
            "/usr/local/lib/python3.7/dist-packages/sklearn/utils/validation.py:760: DataConversionWarning: A column-vector y was passed when a 1d array was expected. Please change the shape of y to (n_samples, ), for example using ravel().\n",
            "  y = column_or_1d(y, warn=True)\n",
            "/usr/local/lib/python3.7/dist-packages/sklearn/utils/deprecation.py:87: FutureWarning: Function safe_indexing is deprecated; safe_indexing is deprecated in version 0.22 and will be removed in version 0.24.\n",
            "  warnings.warn(msg, category=FutureWarning)\n",
            "/usr/local/lib/python3.7/dist-packages/sklearn/utils/deprecation.py:87: FutureWarning: Function safe_indexing is deprecated; safe_indexing is deprecated in version 0.22 and will be removed in version 0.24.\n",
            "  warnings.warn(msg, category=FutureWarning)\n"
          ],
          "name": "stderr"
        },
        {
          "output_type": "execute_result",
          "data": {
            "text/plain": [
              "array([1339, 1339, 1339])"
            ]
          },
          "metadata": {
            "tags": []
          },
          "execution_count": 54
        }
      ]
    },
    {
      "cell_type": "markdown",
      "metadata": {
        "id": "Ol6_bfs6fGJh"
      },
      "source": [
        "### Tamaños finales para prueba y entrenamiento"
      ]
    },
    {
      "cell_type": "code",
      "metadata": {
        "colab": {
          "base_uri": "https://localhost:8080/"
        },
        "id": "cV7RrWosfFmj",
        "outputId": "488030b1-c0e6-4c4b-d4d6-f76dccbcfe04"
      },
      "source": [
        "print('Conjunto de entrenamiento: ', x_train.shape)\n",
        "print('Conjunto de prueba: ', x_test.shape)"
      ],
      "execution_count": null,
      "outputs": [
        {
          "output_type": "stream",
          "text": [
            "Conjunto de entrenamiento:  (16050, 49)\n",
            "Conjunto de prueba:  (4017, 49)\n"
          ],
          "name": "stdout"
        }
      ]
    },
    {
      "cell_type": "markdown",
      "metadata": {
        "id": "KT0w07xRfr9D"
      },
      "source": [
        "## Dispersión de los datos con SMOTE"
      ]
    },
    {
      "cell_type": "code",
      "metadata": {
        "colab": {
          "base_uri": "https://localhost:8080/",
          "height": 265
        },
        "id": "l_EAnJt_fxpx",
        "outputId": "bb411c11-c5ed-4a2d-d319-9898dc6bb5c1"
      },
      "source": [
        "counter = Counter(y_train)\n",
        "for label, _ in counter.items():\n",
        "  row_ix = np.where(y_train == label)[0]\n",
        "  plt.scatter(x_train[row_ix, 0], x_train[row_ix, 1], label=str(label))\n",
        "plt.legend()\n",
        "plt.show() "
      ],
      "execution_count": null,
      "outputs": [
        {
          "output_type": "display_data",
          "data": {
            "image/png": "[encoded data removed]",
            "text/plain": [
              "<Figure size 432x288 with 1 Axes>"
            ]
          },
          "metadata": {
            "tags": [],
            "needs_background": "light"
          }
        }
      ]
    },
    {
      "cell_type": "markdown",
      "metadata": {
        "id": "gt76KXgegDoZ"
      },
      "source": [
        "## Ahora usamos dummies variables para las clases"
      ]
    },
    {
      "cell_type": "code",
      "metadata": {
        "id": "LXxtX-2zgAJo"
      },
      "source": [
        "y_train = pd.get_dummies(y_train)\n",
        "y_test = pd.get_dummies(y_test)"
      ],
      "execution_count": null,
      "outputs": []
    },
    {
      "cell_type": "markdown",
      "metadata": {
        "id": "uXxa6wWwACUJ"
      },
      "source": [
        "# **3. Red neuronal y parametrización**"
      ]
    },
    {
      "cell_type": "markdown",
      "metadata": {
        "id": "BsKAWCzzAPSt"
      },
      "source": [
        "## Modelo Red Neuronal"
      ]
    },
    {
      "cell_type": "code",
      "metadata": {
        "id": "3QLwHtO6ALQt"
      },
      "source": [
        "with tf.device('/GPU:0'):\n",
        "  model = Sequential()\n",
        "\n",
        "  model.add(Dense(128,input_dim=49, activation='relu', name='fc1'))\n",
        "  model.add(Dropout(0.34))\n",
        "  model.add(Dense(128, activation='relu'))\n",
        "  model.add(Dropout(0.3))\n",
        "  model.add(Dense(128, activation='relu'))\n",
        "  model.add(Dense(3, activation='softmax', name='output'))\n"
      ],
      "execution_count": null,
      "outputs": []
    },
    {
      "cell_type": "code",
      "metadata": {
        "id": "bM6iTeh9AfvW"
      },
      "source": [
        "model.compile(loss='categorical_crossentropy', optimizer='adam', metrics=['accuracy'])"
      ],
      "execution_count": null,
      "outputs": []
    },
    {
      "cell_type": "markdown",
      "metadata": {
        "id": "jR3fuu4YAuNQ"
      },
      "source": [
        "## Entrenando la Red Neuronal"
      ]
    },
    {
      "cell_type": "code",
      "metadata": {
        "id": "VhjImzZTAreh",
        "colab": {
          "base_uri": "https://localhost:8080/"
        },
        "outputId": "d255dbef-21b5-490f-c0fd-091eeee8c779"
      },
      "source": [
        "trained_network = model.fit(x_train, y_train, epochs=30, validation_split = 0.1)"
      ],
      "execution_count": null,
      "outputs": [
        {
          "output_type": "stream",
          "text": [
            "Epoch 1/30\n",
            "452/452 [==============================] - 1s 2ms/step - loss: 0.6340 - accuracy: 0.7132 - val_loss: 0.6728 - val_accuracy: 0.9084\n",
            "Epoch 2/30\n",
            "452/452 [==============================] - 1s 2ms/step - loss: 0.6017 - accuracy: 0.7323 - val_loss: 0.5341 - val_accuracy: 0.9838\n",
            "Epoch 3/30\n",
            "452/452 [==============================] - 1s 2ms/step - loss: 0.5913 - accuracy: 0.7378 - val_loss: 0.6710 - val_accuracy: 0.8953\n",
            "Epoch 4/30\n",
            "452/452 [==============================] - 1s 1ms/step - loss: 0.6082 - accuracy: 0.7326 - val_loss: 0.8608 - val_accuracy: 0.5738\n",
            "Epoch 5/30\n",
            "452/452 [==============================] - 1s 2ms/step - loss: 0.6274 - accuracy: 0.7439 - val_loss: 0.5524 - val_accuracy: 0.9221\n",
            "Epoch 6/30\n",
            "452/452 [==============================] - 1s 2ms/step - loss: 0.6275 - accuracy: 0.7403 - val_loss: 0.7424 - val_accuracy: 0.7377\n",
            "Epoch 7/30\n",
            "452/452 [==============================] - 1s 1ms/step - loss: 0.6023 - accuracy: 0.7570 - val_loss: 0.6392 - val_accuracy: 0.8386\n",
            "Epoch 8/30\n",
            "452/452 [==============================] - 1s 2ms/step - loss: 0.6000 - accuracy: 0.7558 - val_loss: 0.3461 - val_accuracy: 0.9913\n",
            "Epoch 9/30\n",
            "452/452 [==============================] - 1s 2ms/step - loss: 0.5769 - accuracy: 0.7730 - val_loss: 0.6234 - val_accuracy: 0.7913\n",
            "Epoch 10/30\n",
            "452/452 [==============================] - 1s 2ms/step - loss: 0.5563 - accuracy: 0.7783 - val_loss: 0.7163 - val_accuracy: 0.7308\n",
            "Epoch 11/30\n",
            "452/452 [==============================] - 1s 2ms/step - loss: 0.5377 - accuracy: 0.7862 - val_loss: 0.4222 - val_accuracy: 0.9551\n",
            "Epoch 12/30\n",
            "452/452 [==============================] - 1s 2ms/step - loss: 0.5242 - accuracy: 0.7902 - val_loss: 0.3480 - val_accuracy: 0.9726\n",
            "Epoch 13/30\n",
            "452/452 [==============================] - 1s 2ms/step - loss: 0.5427 - accuracy: 0.7851 - val_loss: 0.3678 - val_accuracy: 0.9545\n",
            "Epoch 14/30\n",
            "452/452 [==============================] - 1s 2ms/step - loss: 0.4839 - accuracy: 0.8091 - val_loss: 0.3103 - val_accuracy: 0.9763\n",
            "Epoch 15/30\n",
            "452/452 [==============================] - 1s 2ms/step - loss: 0.5005 - accuracy: 0.8029 - val_loss: 0.3495 - val_accuracy: 0.9614\n",
            "Epoch 16/30\n",
            "452/452 [==============================] - 1s 1ms/step - loss: 0.4758 - accuracy: 0.8181 - val_loss: 0.2099 - val_accuracy: 0.9776\n",
            "Epoch 17/30\n",
            "452/452 [==============================] - 1s 2ms/step - loss: 0.4728 - accuracy: 0.8180 - val_loss: 0.1345 - val_accuracy: 0.9994\n",
            "Epoch 18/30\n",
            "452/452 [==============================] - 1s 1ms/step - loss: 0.4599 - accuracy: 0.8229 - val_loss: 0.1304 - val_accuracy: 1.0000\n",
            "Epoch 19/30\n",
            "452/452 [==============================] - 1s 2ms/step - loss: 0.4401 - accuracy: 0.8309 - val_loss: 0.1193 - val_accuracy: 1.0000\n",
            "Epoch 20/30\n",
            "452/452 [==============================] - 1s 2ms/step - loss: 0.4323 - accuracy: 0.8410 - val_loss: 0.2720 - val_accuracy: 0.9670\n",
            "Epoch 21/30\n",
            "452/452 [==============================] - 1s 2ms/step - loss: 0.4243 - accuracy: 0.8419 - val_loss: 0.2556 - val_accuracy: 0.9794\n",
            "Epoch 22/30\n",
            "452/452 [==============================] - 1s 2ms/step - loss: 0.5534 - accuracy: 0.7741 - val_loss: 0.2266 - val_accuracy: 0.9913\n",
            "Epoch 23/30\n",
            "452/452 [==============================] - 1s 2ms/step - loss: 0.5601 - accuracy: 0.7786 - val_loss: 0.3628 - val_accuracy: 0.9570\n",
            "Epoch 24/30\n",
            "452/452 [==============================] - 1s 2ms/step - loss: 0.5222 - accuracy: 0.7928 - val_loss: 0.1424 - val_accuracy: 0.9994\n",
            "Epoch 25/30\n",
            "452/452 [==============================] - 1s 2ms/step - loss: 0.5112 - accuracy: 0.7958 - val_loss: 0.6645 - val_accuracy: 0.7252\n",
            "Epoch 26/30\n",
            "452/452 [==============================] - 1s 2ms/step - loss: 0.5192 - accuracy: 0.7867 - val_loss: 0.1496 - val_accuracy: 0.9956\n",
            "Epoch 27/30\n",
            "452/452 [==============================] - 1s 2ms/step - loss: 0.5304 - accuracy: 0.7837 - val_loss: 0.1233 - val_accuracy: 0.9963\n",
            "Epoch 28/30\n",
            "452/452 [==============================] - 1s 2ms/step - loss: 0.4876 - accuracy: 0.8028 - val_loss: 0.1996 - val_accuracy: 0.9801\n",
            "Epoch 29/30\n",
            "452/452 [==============================] - 1s 2ms/step - loss: 0.4977 - accuracy: 0.7997 - val_loss: 0.5507 - val_accuracy: 0.9364\n",
            "Epoch 30/30\n",
            "452/452 [==============================] - 1s 2ms/step - loss: 0.4896 - accuracy: 0.8047 - val_loss: 0.1274 - val_accuracy: 0.9944\n"
          ],
          "name": "stdout"
        }
      ]
    },
    {
      "cell_type": "markdown",
      "metadata": {
        "id": "LZDyH21wA-CL"
      },
      "source": [
        "# **4. Análisis de resultados**"
      ]
    },
    {
      "cell_type": "markdown",
      "metadata": {
        "id": "Ic4_pcTVjd2h"
      },
      "source": [
        "## Recuento de resultados"
      ]
    },
    {
      "cell_type": "code",
      "metadata": {
        "colab": {
          "base_uri": "https://localhost:8080/"
        },
        "id": "N3Zu9-02jeNP",
        "outputId": "aafedf00-5a3f-4b37-c1bc-442c7a56ae82"
      },
      "source": [
        "print('Neural Network Summary: ')\n",
        "print(model.summary())"
      ],
      "execution_count": null,
      "outputs": [
        {
          "output_type": "stream",
          "text": [
            "Neural Network Summary: \n",
            "Model: \"sequential_1\"\n",
            "_________________________________________________________________\n",
            "Layer (type)                 Output Shape              Param #   \n",
            "=================================================================\n",
            "fc1 (Dense)                  (None, 128)               6400      \n",
            "_________________________________________________________________\n",
            "dropout_2 (Dropout)          (None, 128)               0         \n",
            "_________________________________________________________________\n",
            "dense_2 (Dense)              (None, 128)               16512     \n",
            "_________________________________________________________________\n",
            "dropout_3 (Dropout)          (None, 128)               0         \n",
            "_________________________________________________________________\n",
            "dense_3 (Dense)              (None, 128)               16512     \n",
            "_________________________________________________________________\n",
            "output (Dense)               (None, 3)                 387       \n",
            "=================================================================\n",
            "Total params: 39,811\n",
            "Trainable params: 39,811\n",
            "Non-trainable params: 0\n",
            "_________________________________________________________________\n",
            "None\n"
          ],
          "name": "stdout"
        }
      ]
    },
    {
      "cell_type": "markdown",
      "metadata": {
        "id": "DG72D2pwBHdH"
      },
      "source": [
        "## Perdida y precisión del modelo (Loss - Accuracy)"
      ]
    },
    {
      "cell_type": "code",
      "metadata": {
        "id": "AFvw89H_BB8R",
        "colab": {
          "base_uri": "https://localhost:8080/"
        },
        "outputId": "b16ee6f6-3dc0-4d6b-8a7f-f6e6c80077da"
      },
      "source": [
        "resultados = model.evaluate(x_test, y_test)\n",
        "\n",
        "print('Perdida de prueba (Loss) : ', round(resultados[0],2)*100,'%')\n",
        "print('Precisión de prueba (Accuracy): ', round(resultados[1],2)*100,'%')"
      ],
      "execution_count": null,
      "outputs": [
        {
          "output_type": "stream",
          "text": [
            "126/126 [==============================] - 0s 730us/step - loss: 0.2319 - accuracy: 0.9211\n",
            "Perdida de prueba (Loss) :  23.0 %\n",
            "Precisión de prueba (Accuracy):  92.0 %\n"
          ],
          "name": "stdout"
        }
      ]
    },
    {
      "cell_type": "markdown",
      "metadata": {
        "id": "KkTNyeewBkZ2"
      },
      "source": [
        "## Curva de aprendizaje del modelo\n",
        "\n",
        "\n"
      ]
    },
    {
      "cell_type": "markdown",
      "metadata": {
        "id": "3Pi8q8nsoSPT"
      },
      "source": [
        "### Creamos un nuevo DataFrame para poder hacer la curva de aprendizaje"
      ]
    },
    {
      "cell_type": "code",
      "metadata": {
        "id": "d6t4TtDMBuKI",
        "colab": {
          "base_uri": "https://localhost:8080/"
        },
        "outputId": "219a79e5-d578-4459-a747-d478fd16046d"
      },
      "source": [
        "train = pd.DataFrame(trained_network.history)\n",
        "train ['epoch'] = trained_network.epoch\n",
        "train.tail()"
      ],
      "execution_count": null,
      "outputs": [
        {
          "output_type": "execute_result",
          "data": {
            "text/html": [
              "<div>\n",
              "<style scoped>\n",
              "    .dataframe tbody tr th:only-of-type {\n",
              "        vertical-align: middle;\n",
              "    }\n",
              "\n",
              "    .dataframe tbody tr th {\n",
              "        vertical-align: top;\n",
              "    }\n",
              "\n",
              "    .dataframe thead th {\n",
              "        text-align: right;\n",
              "    }\n",
              "</style>\n",
              "<table border=\"1\" class=\"dataframe\">\n",
              "  <thead>\n",
              "    <tr style=\"text-align: right;\">\n",
              "      <th></th>\n",
              "      <th>loss</th>\n",
              "      <th>accuracy</th>\n",
              "      <th>val_loss</th>\n",
              "      <th>val_accuracy</th>\n",
              "      <th>epoch</th>\n",
              "    </tr>\n",
              "  </thead>\n",
              "  <tbody>\n",
              "    <tr>\n",
              "      <th>25</th>\n",
              "      <td>0.717761</td>\n",
              "      <td>0.661198</td>\n",
              "      <td>0.850736</td>\n",
              "      <td>0.742056</td>\n",
              "      <td>25</td>\n",
              "    </tr>\n",
              "    <tr>\n",
              "      <th>26</th>\n",
              "      <td>0.706672</td>\n",
              "      <td>0.667567</td>\n",
              "      <td>0.901035</td>\n",
              "      <td>0.442991</td>\n",
              "      <td>26</td>\n",
              "    </tr>\n",
              "    <tr>\n",
              "      <th>27</th>\n",
              "      <td>0.744004</td>\n",
              "      <td>0.633645</td>\n",
              "      <td>0.766421</td>\n",
              "      <td>0.907788</td>\n",
              "      <td>27</td>\n",
              "    </tr>\n",
              "    <tr>\n",
              "      <th>28</th>\n",
              "      <td>0.707072</td>\n",
              "      <td>0.657805</td>\n",
              "      <td>0.845472</td>\n",
              "      <td>0.818692</td>\n",
              "      <td>28</td>\n",
              "    </tr>\n",
              "    <tr>\n",
              "      <th>29</th>\n",
              "      <td>0.678605</td>\n",
              "      <td>0.680651</td>\n",
              "      <td>1.025713</td>\n",
              "      <td>0.427414</td>\n",
              "      <td>29</td>\n",
              "    </tr>\n",
              "  </tbody>\n",
              "</table>\n",
              "</div>"
            ],
            "text/plain": [
              "        loss  accuracy  val_loss  val_accuracy  epoch\n",
              "25  0.717761  0.661198  0.850736      0.742056     25\n",
              "26  0.706672  0.667567  0.901035      0.442991     26\n",
              "27  0.744004  0.633645  0.766421      0.907788     27\n",
              "28  0.707072  0.657805  0.845472      0.818692     28\n",
              "29  0.678605  0.680651  1.025713      0.427414     29"
            ]
          },
          "metadata": {
            "tags": []
          },
          "execution_count": 63
        }
      ]
    },
    {
      "cell_type": "markdown",
      "metadata": {
        "id": "Rni_3JrRpcbS"
      },
      "source": [
        "### Ahora creamos la curva de aprendizaje"
      ]
    },
    {
      "cell_type": "code",
      "metadata": {
        "colab": {
          "base_uri": "https://localhost:8080/"
        },
        "id": "-mwjKOwWpTw7",
        "outputId": "a452bce2-ff11-4b4a-ea60-dacfa1fa520d"
      },
      "source": [
        "plt.figure()\n",
        "plt.xlabel('Epoch')\n",
        "plt.ylabel('Categorical Crossentropy')\n",
        "plt.plot(train['epoch'], train['loss'],label='Train')\n",
        "plt.plot(train['epoch'], train['val_loss'],label = 'validation')\n",
        "plt.ylim([0,1.38])\n",
        "plt.title('Learning Curve')\n",
        "plt.legend()\n",
        "plt.show()"
      ],
      "execution_count": null,
      "outputs": [
        {
          "output_type": "display_data",
          "data": {
            "image/png": "[encoded data removed]",
            "text/plain": [
              "<Figure size 432x288 with 1 Axes>"
            ]
          },
          "metadata": {
            "tags": [],
            "needs_background": "light"
          }
        }
      ]
    },
    {
      "cell_type": "markdown",
      "metadata": {
        "id": "ZQGelC30qx22"
      },
      "source": [
        "# **Se evalua finalmente el modelo guardado**"
      ]
    },
    {
      "cell_type": "code",
      "metadata": {
        "colab": {
          "base_uri": "https://localhost:8080/"
        },
        "id": "3R__7Bx1rbCm",
        "outputId": "e2aecd4f-7daa-4bf2-e988-ca2b077f0e9c"
      },
      "source": [
        "model.compile(optimizer='adam', loss='categorical_crossentropy', metrics=['accuracy'])\n",
        "resultados = model.evaluate(x_test, y_test)\n",
        "print('Perdida de prueba final (Final Test Set Loss) : ', round(resultados[0],2)*100,'%')\n",
        "print('Precisión de prueba final (Final Test Set Accuracy): ', round(resultados[1],2)*100,'%')"
      ],
      "execution_count": null,
      "outputs": [
        {
          "output_type": "stream",
          "text": [
            "126/126 [==============================] - 1s 823us/step - loss: 0.3463 - accuracy: 0.8433\n",
            "Perdida de prueba final (Final Test Set Loss) :  23.0 %\n",
            "Precisión de prueba final (Final Test Set Accuracy):  92.0 %\n"
          ],
          "name": "stdout"
        }
      ]
    }
  ]
}